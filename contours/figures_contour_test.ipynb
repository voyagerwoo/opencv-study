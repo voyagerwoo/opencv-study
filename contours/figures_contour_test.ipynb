{
 "cells": [
  {
   "cell_type": "code",
   "execution_count": 1,
   "metadata": {},
   "outputs": [],
   "source": [
    "import numpy as np\n",
    "import cv2\n",
    "from matplotlib import pyplot as plt\n",
    "from PIL import Image\n",
    "\n",
    "\n",
    "def save_img(img, name, ext='JPEG'):\n",
    "    im_to_save = Image.fromarray(img)\n",
    "    im_to_save.save(PATH + name, ext)\n",
    "\n",
    "\n",
    "PATH = 'contours/'\n",
    "\n",
    "figure_im = cv2.imread(PATH + 'figures.jpg')\n",
    "imgray = cv2.cvtColor(figure_im, cv2.COLOR_BGR2GRAY)\n",
    "\n",
    "plt.imshow(imgray)\n",
    "plt.show()\n",
    "\n",
    "save_img(imgray, 'figures_gray.jpg')\n"
   ]
  },
  {
   "cell_type": "code",
   "execution_count": 4,
   "metadata": {},
   "outputs": [],
   "source": [
    "\n",
    "ret, thresh = cv2.threshold(imgray, thresh=225, maxval=255, type=0) # threshold 값으로 찾아냄\n",
    "cnt_found_im, contours, hierarchy = cv2.findContours(thresh, cv2.RETR_TREE, cv2.CHAIN_APPROX_SIMPLE)\n",
    "\n",
    "plt.imshow(cnt_found_im)\n",
    "plt.show()\n",
    "\n",
    "save_img(cnt_found_im, 'figures_cnt_found.jpg')"
   ]
  },
  {
   "cell_type": "code",
   "execution_count": 5,
   "metadata": {},
   "outputs": [],
   "source": [
    "BLACK = (0, 0, 0)\n",
    "cv2.drawContours(figure_im, contours, -1, BLACK, 4) # contours에 검은 선 긋기\n",
    "plt.imshow(figure_im)\n",
    "plt.show()\n",
    "\n",
    "save_img(figure_im, 'figures_cnt_draw.jpg')\n"
   ]
  },
  {
   "cell_type": "code",
   "execution_count": null,
   "metadata": {},
   "outputs": [],
   "source": []
  }
 ],
 "metadata": {
  "kernelspec": {
   "display_name": "Python 3",
   "language": "python",
   "name": "python3"
  },
  "language_info": {
   "codemirror_mode": {
    "name": "ipython",
    "version": 3
   },
   "file_extension": ".py",
   "mimetype": "text/x-python",
   "name": "python",
   "nbconvert_exporter": "python",
   "pygments_lexer": "ipython3",
   "version": "3.6.2"
  }
 },
 "nbformat": 4,
 "nbformat_minor": 2
}
