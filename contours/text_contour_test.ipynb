{
 "cells": [
  {
   "cell_type": "code",
   "execution_count": 7,
   "metadata": {
    "collapsed": true
   },
   "outputs": [],
   "source": [
    "import numpy as np\n",
    "import cv2\n",
    "from matplotlib import pyplot as plt\n",
    "from PIL import Image\n",
    "\n",
    "PATH = 'contours/'\n",
    "\n",
    "\n",
    "def save_img(img, name, ext='JPEG'):\n",
    "    im_to_save = Image.fromarray(img)\n",
    "    im_to_save.save(PATH + name, ext)\n",
    "\n",
    "\n",
    "text_im = cv2.imread(PATH + 'text_cleaned.jpg')\n",
    "imgray = cv2.cvtColor(text_im, cv2.COLOR_BGR2GRAY)\n",
    "\n",
    "plt.imshow(imgray)\n",
    "plt.show()\n",
    "\n",
    "save_img(imgray, 'text_gray.jpg')"
   ]
  },
  {
   "cell_type": "code",
   "execution_count": 8,
   "metadata": {},
   "outputs": [],
   "source": [
    "ret, thresh = cv2.threshold(imgray, thresh=127, maxval=255, type=0) # threshold 값으로 찾아냄\n",
    "cnt_found_im, contours, hierarchy = cv2.findContours(thresh, cv2.RETR_TREE, cv2.CHAIN_APPROX_SIMPLE)\n",
    "\n",
    "plt.imshow(cnt_found_im)\n",
    "plt.show()\n",
    "\n",
    "save_img(cnt_found_im, 'text_cnt_found.jpg')"
   ]
  },
  {
   "cell_type": "code",
   "execution_count": 9,
   "metadata": {},
   "outputs": [],
   "source": [
    "GREEN = (0, 127, 0)\n",
    "cv2.drawContours(text_im, contours, -1, GREEN, 4) # contours에 녹색선 긋기\n",
    "plt.imshow(text_im)\n",
    "plt.show()\n",
    "\n",
    "save_img(text_im, 'text_cnt_draw.jpg')\n",
    "\n"
   ]
  },
  {
   "cell_type": "code",
   "execution_count": null,
   "metadata": {},
   "outputs": [],
   "source": []
  }
 ],
 "metadata": {
  "kernelspec": {
   "display_name": "Python 2",
   "language": "python",
   "name": "python2"
  },
  "language_info": {
   "codemirror_mode": {
    "name": "ipython",
    "version": 2
   },
   "file_extension": ".py",
   "mimetype": "text/x-python",
   "name": "python",
   "nbconvert_exporter": "python",
   "pygments_lexer": "ipython2",
   "version": "2.7.6"
  }
 },
 "nbformat": 4,
 "nbformat_minor": 0
}
