{
 "cells": [
  {
   "cell_type": "code",
   "execution_count": 24,
   "metadata": {
    "collapsed": true
   },
   "outputs": [],
   "source": [
    "import numpy as np\n",
    "import argparse\n",
    "import cv2\n",
    "from matplotlib import pyplot as plt\n",
    "\n",
    "PATH = 'skew_correction/'\n",
    "\n",
    "image = cv2.imread(PATH + 'skewed_text.jpg')\n",
    "plt.imshow(image)\n",
    "plt.show()"
   ]
  },
  {
   "cell_type": "code",
   "execution_count": 25,
   "metadata": {},
   "outputs": [],
   "source": [
    "gray = cv2.cvtColor(image, cv2.COLOR_BGR2GRAY)\n",
    "gray = cv2.bitwise_not(gray)\n",
    "thresh = cv2.threshold(gray, 0, 255,\n",
    "                       cv2.THRESH_BINARY | cv2.THRESH_OTSU)[1]\n",
    "\n",
    "plt.imshow(thresh)\n",
    "plt.show()\n"
   ]
  },
  {
   "cell_type": "code",
   "execution_count": 26,
   "metadata": {},
   "outputs": [
    {
     "name": "stdout",
     "output_type": "stream",
     "text": [
      "[[ 12  80]\n [ 12  81]\n [ 13  80]\n ..., \n [369 514]\n [369 515]\n [370 514]]\nangle -23.720394134521484\nangle 23.720394134521484\n"
     ]
    }
   ],
   "source": [
    "coords = np.column_stack(np.where(thresh > 0))\n",
    "print(coords)\n",
    "angle = cv2.minAreaRect(coords)[-1]\n",
    "print('angle %s' % angle)\n",
    "if angle < -45:\n",
    "    angle = -(90 + angle)\n",
    "else:\n",
    "    angle = -angle\n",
    "print('angle %s' % angle)\n"
   ]
  },
  {
   "cell_type": "code",
   "execution_count": 27,
   "metadata": {},
   "outputs": [],
   "source": [
    "(h, w) = image.shape[:2]\n",
    "center = (w // 2, h // 2)\n",
    "M = cv2.getRotationMatrix2D(center, angle, 1.0)\n",
    "rotated = cv2.warpAffine(image, M, (w, h),\n",
    "                         flags=cv2.INTER_CUBIC, \n",
    "                         borderMode=cv2.BORDER_REPLICATE)\n",
    "plt.imshow(rotated)\n",
    "plt.show()\n"
   ]
  },
  {
   "cell_type": "code",
   "execution_count": 28,
   "metadata": {},
   "outputs": [],
   "source": [
    "cv2.putText(rotated, \"Angle: {:.2f} degrees\".format(angle),\n",
    "            (10, 30), cv2.FONT_HERSHEY_SIMPLEX, 0.7, (0, 0, 255), 2)\n",
    "plt.imshow(rotated)\n",
    "plt.show()"
   ]
  },
  {
   "cell_type": "code",
   "execution_count": null,
   "metadata": {},
   "outputs": [],
   "source": []
  }
 ],
 "metadata": {
  "kernelspec": {
   "display_name": "Python 2",
   "language": "python",
   "name": "python2"
  },
  "language_info": {
   "codemirror_mode": {
    "name": "ipython",
    "version": 2
   },
   "file_extension": ".py",
   "mimetype": "text/x-python",
   "name": "python",
   "nbconvert_exporter": "python",
   "pygments_lexer": "ipython2",
   "version": "2.7.6"
  }
 },
 "nbformat": 4,
 "nbformat_minor": 0
}
