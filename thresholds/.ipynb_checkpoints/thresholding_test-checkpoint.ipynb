{
 "cells": [
  {
   "cell_type": "code",
   "execution_count": 9,
   "metadata": {},
   "outputs": [],
   "source": [
    "import cv2\n",
    "import numpy as np\n",
    "from matplotlib import pyplot as plt\n",
    "from PIL import Image\n",
    "\n",
    "img = cv2.imread('gradient.jpg',0)\n",
    "\n",
    "ret, thresh1 = cv2.threshold(img,127,255, cv2.THRESH_BINARY)\n",
    "ret, thresh2 = cv2.threshold(img,127,255, cv2.THRESH_BINARY_INV)\n",
    "ret, thresh3 = cv2.threshold(img,127,255, cv2.THRESH_TRUNC)\n",
    "ret, thresh4 = cv2.threshold(img,127,255, cv2.THRESH_TOZERO)\n",
    "ret, thresh5 = cv2.threshold(img,127,255, cv2.THRESH_TOZERO_INV)\n",
    "\n",
    "titles =['Original','BINARY','BINARY_INV','TRUNC','TOZERO','TOZERO_INV']\n",
    "images = [img,thresh1,thresh2,thresh3,thresh4,thresh5]\n",
    "\n",
    "for i in range(6):\n",
    "    plt.subplot(2,3,i+1),plt.imshow(images[i],'gray')\n",
    "    plt.title(titles[i])\n",
    "    plt.xticks([]),plt.yticks([])\n",
    "\n",
    "plt.show()"
   ]
  },
  {
   "cell_type": "code",
   "execution_count": 11,
   "metadata": {},
   "outputs": [],
   "source": [
    "img = cv2.imread('sudoku.jpg',0)\n",
    "# img = cv2.medianBlur(img,5)\n",
    "\n",
    "ret, th1 = cv2.threshold(img,127,255,cv2.THRESH_BINARY)\n",
    "\n",
    "th2 = cv2.adaptiveThreshold(img,255,cv2.ADAPTIVE_THRESH_MEAN_C,\\\n",
    "cv2.THRESH_BINARY,15,2)\n",
    "th3 = cv2.adaptiveThreshold(img,255,cv2.ADAPTIVE_THRESH_GAUSSIAN_C,\\\n",
    "cv2.THRESH_BINARY,15,2)\n",
    "\n",
    "titles = ['Original','Global','Mean','Gaussian']\n",
    "\n",
    "images = [img,th1,th2,th3]\n",
    "\n",
    "for i in range(4):\n",
    "\tplt.subplot(2,2,i+1),plt.imshow(images[i],'gray')\n",
    "\tplt.title(titles[i])\n",
    "\tplt.xticks([]),plt.yticks([])\n",
    "\n",
    "plt.show()"
   ]
  },
  {
   "cell_type": "code",
   "execution_count": 10,
   "metadata": {},
   "outputs": [],
   "source": [
    "img = cv2.imread('55_clean.jpg', 0)\n",
    "plt.imshow(img)\n",
    "plt.show()"
   ]
  },
  {
   "cell_type": "code",
   "execution_count": 7,
   "metadata": {},
   "outputs": [],
   "source": [
    "gau_img = cv2.adaptiveThreshold(img,255,cv2.ADAPTIVE_THRESH_GAUSSIAN_C,\\\n",
    "cv2.THRESH_BINARY,15,2)\n",
    "plt.imshow(gau_img)\n",
    "plt.show()\n",
    "\n",
    "gau_i = Image.fromarray(gau_img)\n",
    "gau_i.save('55_clean_gau.jpg', \"JPEG\")"
   ]
  },
  {
   "cell_type": "code",
   "execution_count": 8,
   "metadata": {},
   "outputs": [],
   "source": [
    "med_img = cv2.medianBlur(gau_img,5)\n",
    "plt.imshow(med_img)\n",
    "plt.show()\n",
    "\n",
    "gau_i = Image.fromarray(med_img)\n",
    "gau_i.save('55_clean_med.jpg', \"JPEG\")"
   ]
  },
  {
   "cell_type": "code",
   "execution_count": null,
   "metadata": {
    "collapsed": true
   },
   "outputs": [],
   "source": []
  }
 ],
 "metadata": {
  "kernelspec": {
   "display_name": "Python 3",
   "language": "python",
   "name": "python3"
  },
  "language_info": {
   "codemirror_mode": {
    "name": "ipython",
    "version": 3
   },
   "file_extension": ".py",
   "mimetype": "text/x-python",
   "name": "python",
   "nbconvert_exporter": "python",
   "pygments_lexer": "ipython3",
   "version": "3.6.2"
  }
 },
 "nbformat": 4,
 "nbformat_minor": 2
}
